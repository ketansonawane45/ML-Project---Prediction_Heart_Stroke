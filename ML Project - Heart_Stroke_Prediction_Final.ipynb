{
 "cells": [
  {
   "cell_type": "markdown",
   "id": "5b3f6e31",
   "metadata": {},
   "source": [
    "### Project Title : To predict heart strokes using classification ML models"
   ]
  },
  {
   "cell_type": "code",
   "execution_count": 236,
   "id": "54d9ec1d",
   "metadata": {},
   "outputs": [],
   "source": [
    "# Importing the necessary libraries"
   ]
  },
  {
   "cell_type": "code",
   "execution_count": 237,
   "id": "5f4af614",
   "metadata": {},
   "outputs": [],
   "source": [
    "import pandas as pd\n",
    "import numpy as np\n",
    "import matplotlib.pyplot as plt\n",
    "import seaborn as sns\n",
    "from sklearn.preprocessing import OneHotEncoder, MinMaxScaler\n",
    "from sklearn.model_selection import train_test_split\n",
    "\n",
    "from sklearn.neighbors import KNeighborsClassifier\n",
    "from sklearn.metrics import mean_squared_error\n",
    "from math import sqrt\n",
    "from sklearn import metrics\n",
    "from sklearn.linear_model import LogisticRegression\n",
    "from sklearn.metrics import confusion_matrix\n",
    "from sklearn.metrics import roc_curve\n",
    "from sklearn.metrics import accuracy_score\n",
    "from sklearn.metrics import mean_squared_error\n",
    "from sklearn.model_selection import cross_val_score"
   ]
  },
  {
   "cell_type": "code",
   "execution_count": 238,
   "id": "965ec31d",
   "metadata": {},
   "outputs": [],
   "source": [
    "#Load the dataset into a dataframe "
   ]
  },
  {
   "cell_type": "code",
   "execution_count": 239,
   "id": "158db559",
   "metadata": {},
   "outputs": [],
   "source": [
    "df=pd.read_csv('healthcare-dataset-stroke-data.csv')"
   ]
  },
  {
   "cell_type": "code",
   "execution_count": 240,
   "id": "829a1ac5",
   "metadata": {},
   "outputs": [],
   "source": [
    "# Read first five rows of the dataset "
   ]
  },
  {
   "cell_type": "code",
   "execution_count": 241,
   "id": "c77b0c93",
   "metadata": {},
   "outputs": [
    {
     "data": {
      "text/html": [
       "<div>\n",
       "<style scoped>\n",
       "    .dataframe tbody tr th:only-of-type {\n",
       "        vertical-align: middle;\n",
       "    }\n",
       "\n",
       "    .dataframe tbody tr th {\n",
       "        vertical-align: top;\n",
       "    }\n",
       "\n",
       "    .dataframe thead th {\n",
       "        text-align: right;\n",
       "    }\n",
       "</style>\n",
       "<table border=\"1\" class=\"dataframe\">\n",
       "  <thead>\n",
       "    <tr style=\"text-align: right;\">\n",
       "      <th></th>\n",
       "      <th>id</th>\n",
       "      <th>gender</th>\n",
       "      <th>age</th>\n",
       "      <th>hypertension</th>\n",
       "      <th>heart_disease</th>\n",
       "      <th>ever_married</th>\n",
       "      <th>work_type</th>\n",
       "      <th>Residence_type</th>\n",
       "      <th>avg_glucose_level</th>\n",
       "      <th>bmi</th>\n",
       "      <th>smoking_status</th>\n",
       "      <th>stroke</th>\n",
       "    </tr>\n",
       "  </thead>\n",
       "  <tbody>\n",
       "    <tr>\n",
       "      <th>0</th>\n",
       "      <td>9046</td>\n",
       "      <td>Male</td>\n",
       "      <td>67.0</td>\n",
       "      <td>0</td>\n",
       "      <td>1</td>\n",
       "      <td>Yes</td>\n",
       "      <td>Private</td>\n",
       "      <td>Urban</td>\n",
       "      <td>228.69</td>\n",
       "      <td>36.6</td>\n",
       "      <td>formerly smoked</td>\n",
       "      <td>1</td>\n",
       "    </tr>\n",
       "    <tr>\n",
       "      <th>1</th>\n",
       "      <td>51676</td>\n",
       "      <td>Female</td>\n",
       "      <td>61.0</td>\n",
       "      <td>0</td>\n",
       "      <td>0</td>\n",
       "      <td>Yes</td>\n",
       "      <td>Self-employed</td>\n",
       "      <td>Rural</td>\n",
       "      <td>202.21</td>\n",
       "      <td>NaN</td>\n",
       "      <td>never smoked</td>\n",
       "      <td>1</td>\n",
       "    </tr>\n",
       "    <tr>\n",
       "      <th>2</th>\n",
       "      <td>31112</td>\n",
       "      <td>Male</td>\n",
       "      <td>80.0</td>\n",
       "      <td>0</td>\n",
       "      <td>1</td>\n",
       "      <td>Yes</td>\n",
       "      <td>Private</td>\n",
       "      <td>Rural</td>\n",
       "      <td>105.92</td>\n",
       "      <td>32.5</td>\n",
       "      <td>never smoked</td>\n",
       "      <td>1</td>\n",
       "    </tr>\n",
       "    <tr>\n",
       "      <th>3</th>\n",
       "      <td>60182</td>\n",
       "      <td>Female</td>\n",
       "      <td>49.0</td>\n",
       "      <td>0</td>\n",
       "      <td>0</td>\n",
       "      <td>Yes</td>\n",
       "      <td>Private</td>\n",
       "      <td>Urban</td>\n",
       "      <td>171.23</td>\n",
       "      <td>34.4</td>\n",
       "      <td>smokes</td>\n",
       "      <td>1</td>\n",
       "    </tr>\n",
       "    <tr>\n",
       "      <th>4</th>\n",
       "      <td>1665</td>\n",
       "      <td>Female</td>\n",
       "      <td>79.0</td>\n",
       "      <td>1</td>\n",
       "      <td>0</td>\n",
       "      <td>Yes</td>\n",
       "      <td>Self-employed</td>\n",
       "      <td>Rural</td>\n",
       "      <td>174.12</td>\n",
       "      <td>24.0</td>\n",
       "      <td>never smoked</td>\n",
       "      <td>1</td>\n",
       "    </tr>\n",
       "  </tbody>\n",
       "</table>\n",
       "</div>"
      ],
      "text/plain": [
       "      id  gender   age  hypertension  heart_disease ever_married  \\\n",
       "0   9046    Male  67.0             0              1          Yes   \n",
       "1  51676  Female  61.0             0              0          Yes   \n",
       "2  31112    Male  80.0             0              1          Yes   \n",
       "3  60182  Female  49.0             0              0          Yes   \n",
       "4   1665  Female  79.0             1              0          Yes   \n",
       "\n",
       "       work_type Residence_type  avg_glucose_level   bmi   smoking_status  \\\n",
       "0        Private          Urban             228.69  36.6  formerly smoked   \n",
       "1  Self-employed          Rural             202.21   NaN     never smoked   \n",
       "2        Private          Rural             105.92  32.5     never smoked   \n",
       "3        Private          Urban             171.23  34.4           smokes   \n",
       "4  Self-employed          Rural             174.12  24.0     never smoked   \n",
       "\n",
       "   stroke  \n",
       "0       1  \n",
       "1       1  \n",
       "2       1  \n",
       "3       1  \n",
       "4       1  "
      ]
     },
     "execution_count": 241,
     "metadata": {},
     "output_type": "execute_result"
    }
   ],
   "source": [
    "df.head()"
   ]
  },
  {
   "cell_type": "code",
   "execution_count": 242,
   "id": "f1763003",
   "metadata": {},
   "outputs": [],
   "source": [
    "# Read bottom five rows of the dataset "
   ]
  },
  {
   "cell_type": "code",
   "execution_count": 243,
   "id": "7e35ce0c",
   "metadata": {},
   "outputs": [
    {
     "data": {
      "text/html": [
       "<div>\n",
       "<style scoped>\n",
       "    .dataframe tbody tr th:only-of-type {\n",
       "        vertical-align: middle;\n",
       "    }\n",
       "\n",
       "    .dataframe tbody tr th {\n",
       "        vertical-align: top;\n",
       "    }\n",
       "\n",
       "    .dataframe thead th {\n",
       "        text-align: right;\n",
       "    }\n",
       "</style>\n",
       "<table border=\"1\" class=\"dataframe\">\n",
       "  <thead>\n",
       "    <tr style=\"text-align: right;\">\n",
       "      <th></th>\n",
       "      <th>id</th>\n",
       "      <th>gender</th>\n",
       "      <th>age</th>\n",
       "      <th>hypertension</th>\n",
       "      <th>heart_disease</th>\n",
       "      <th>ever_married</th>\n",
       "      <th>work_type</th>\n",
       "      <th>Residence_type</th>\n",
       "      <th>avg_glucose_level</th>\n",
       "      <th>bmi</th>\n",
       "      <th>smoking_status</th>\n",
       "      <th>stroke</th>\n",
       "    </tr>\n",
       "  </thead>\n",
       "  <tbody>\n",
       "    <tr>\n",
       "      <th>5105</th>\n",
       "      <td>18234</td>\n",
       "      <td>Female</td>\n",
       "      <td>80.0</td>\n",
       "      <td>1</td>\n",
       "      <td>0</td>\n",
       "      <td>Yes</td>\n",
       "      <td>Private</td>\n",
       "      <td>Urban</td>\n",
       "      <td>83.75</td>\n",
       "      <td>NaN</td>\n",
       "      <td>never smoked</td>\n",
       "      <td>0</td>\n",
       "    </tr>\n",
       "    <tr>\n",
       "      <th>5106</th>\n",
       "      <td>44873</td>\n",
       "      <td>Female</td>\n",
       "      <td>81.0</td>\n",
       "      <td>0</td>\n",
       "      <td>0</td>\n",
       "      <td>Yes</td>\n",
       "      <td>Self-employed</td>\n",
       "      <td>Urban</td>\n",
       "      <td>125.20</td>\n",
       "      <td>40.0</td>\n",
       "      <td>never smoked</td>\n",
       "      <td>0</td>\n",
       "    </tr>\n",
       "    <tr>\n",
       "      <th>5107</th>\n",
       "      <td>19723</td>\n",
       "      <td>Female</td>\n",
       "      <td>35.0</td>\n",
       "      <td>0</td>\n",
       "      <td>0</td>\n",
       "      <td>Yes</td>\n",
       "      <td>Self-employed</td>\n",
       "      <td>Rural</td>\n",
       "      <td>82.99</td>\n",
       "      <td>30.6</td>\n",
       "      <td>never smoked</td>\n",
       "      <td>0</td>\n",
       "    </tr>\n",
       "    <tr>\n",
       "      <th>5108</th>\n",
       "      <td>37544</td>\n",
       "      <td>Male</td>\n",
       "      <td>51.0</td>\n",
       "      <td>0</td>\n",
       "      <td>0</td>\n",
       "      <td>Yes</td>\n",
       "      <td>Private</td>\n",
       "      <td>Rural</td>\n",
       "      <td>166.29</td>\n",
       "      <td>25.6</td>\n",
       "      <td>formerly smoked</td>\n",
       "      <td>0</td>\n",
       "    </tr>\n",
       "    <tr>\n",
       "      <th>5109</th>\n",
       "      <td>44679</td>\n",
       "      <td>Female</td>\n",
       "      <td>44.0</td>\n",
       "      <td>0</td>\n",
       "      <td>0</td>\n",
       "      <td>Yes</td>\n",
       "      <td>Govt_job</td>\n",
       "      <td>Urban</td>\n",
       "      <td>85.28</td>\n",
       "      <td>26.2</td>\n",
       "      <td>Unknown</td>\n",
       "      <td>0</td>\n",
       "    </tr>\n",
       "  </tbody>\n",
       "</table>\n",
       "</div>"
      ],
      "text/plain": [
       "         id  gender   age  hypertension  heart_disease ever_married  \\\n",
       "5105  18234  Female  80.0             1              0          Yes   \n",
       "5106  44873  Female  81.0             0              0          Yes   \n",
       "5107  19723  Female  35.0             0              0          Yes   \n",
       "5108  37544    Male  51.0             0              0          Yes   \n",
       "5109  44679  Female  44.0             0              0          Yes   \n",
       "\n",
       "          work_type Residence_type  avg_glucose_level   bmi   smoking_status  \\\n",
       "5105        Private          Urban              83.75   NaN     never smoked   \n",
       "5106  Self-employed          Urban             125.20  40.0     never smoked   \n",
       "5107  Self-employed          Rural              82.99  30.6     never smoked   \n",
       "5108        Private          Rural             166.29  25.6  formerly smoked   \n",
       "5109       Govt_job          Urban              85.28  26.2          Unknown   \n",
       "\n",
       "      stroke  \n",
       "5105       0  \n",
       "5106       0  \n",
       "5107       0  \n",
       "5108       0  \n",
       "5109       0  "
      ]
     },
     "execution_count": 243,
     "metadata": {},
     "output_type": "execute_result"
    }
   ],
   "source": [
    "df.tail()"
   ]
  },
  {
   "cell_type": "code",
   "execution_count": 244,
   "id": "df00eed0",
   "metadata": {},
   "outputs": [],
   "source": [
    "# Check the dimensions of the dataset"
   ]
  },
  {
   "cell_type": "code",
   "execution_count": 245,
   "id": "acbec34f",
   "metadata": {},
   "outputs": [
    {
     "data": {
      "text/plain": [
       "(5110, 12)"
      ]
     },
     "execution_count": 245,
     "metadata": {},
     "output_type": "execute_result"
    }
   ],
   "source": [
    "df.shape"
   ]
  },
  {
   "cell_type": "code",
   "execution_count": 246,
   "id": "335f0315",
   "metadata": {},
   "outputs": [],
   "source": [
    "# Check the non-null count and datatype information of the dataset"
   ]
  },
  {
   "cell_type": "code",
   "execution_count": 247,
   "id": "8bd6a26a",
   "metadata": {},
   "outputs": [
    {
     "name": "stdout",
     "output_type": "stream",
     "text": [
      "<class 'pandas.core.frame.DataFrame'>\n",
      "RangeIndex: 5110 entries, 0 to 5109\n",
      "Data columns (total 12 columns):\n",
      " #   Column             Non-Null Count  Dtype  \n",
      "---  ------             --------------  -----  \n",
      " 0   id                 5110 non-null   int64  \n",
      " 1   gender             5110 non-null   object \n",
      " 2   age                5110 non-null   float64\n",
      " 3   hypertension       5110 non-null   int64  \n",
      " 4   heart_disease      5110 non-null   int64  \n",
      " 5   ever_married       5110 non-null   object \n",
      " 6   work_type          5110 non-null   object \n",
      " 7   Residence_type     5110 non-null   object \n",
      " 8   avg_glucose_level  5110 non-null   float64\n",
      " 9   bmi                4909 non-null   float64\n",
      " 10  smoking_status     5110 non-null   object \n",
      " 11  stroke             5110 non-null   int64  \n",
      "dtypes: float64(3), int64(4), object(5)\n",
      "memory usage: 479.2+ KB\n"
     ]
    }
   ],
   "source": [
    "df.info()"
   ]
  },
  {
   "cell_type": "code",
   "execution_count": 248,
   "id": "b652fe93",
   "metadata": {},
   "outputs": [],
   "source": [
    "# There are two columns which looks like category columns but currently appearing as numeric\n",
    "# Columns:'hypertension' and 'heart_disease'\n",
    "# Even though we will encode them as numbers, we should separate them so they do not get rescaled along with other numeric columns."
   ]
  },
  {
   "cell_type": "code",
   "execution_count": 249,
   "id": "4136f5b7",
   "metadata": {},
   "outputs": [],
   "source": [
    "df['hypertension'] = df['hypertension'].astype('object')\n",
    "df['heart_disease'] = df['heart_disease'].astype('object')\n",
    "df['stroke'] = df['stroke'].astype('object')"
   ]
  },
  {
   "cell_type": "code",
   "execution_count": 250,
   "id": "c6532a22",
   "metadata": {},
   "outputs": [],
   "source": [
    "# Check the data types again to see the update"
   ]
  },
  {
   "cell_type": "code",
   "execution_count": 251,
   "id": "14afa5ba",
   "metadata": {},
   "outputs": [
    {
     "data": {
      "text/plain": [
       "id                     int64\n",
       "gender                object\n",
       "age                  float64\n",
       "hypertension          object\n",
       "heart_disease         object\n",
       "ever_married          object\n",
       "work_type             object\n",
       "Residence_type        object\n",
       "avg_glucose_level    float64\n",
       "bmi                  float64\n",
       "smoking_status        object\n",
       "stroke                object\n",
       "dtype: object"
      ]
     },
     "execution_count": 251,
     "metadata": {},
     "output_type": "execute_result"
    }
   ],
   "source": [
    "df.dtypes"
   ]
  },
  {
   "cell_type": "code",
   "execution_count": 252,
   "id": "f7cff532",
   "metadata": {},
   "outputs": [],
   "source": [
    "# Check the missing values in the data"
   ]
  },
  {
   "cell_type": "code",
   "execution_count": 253,
   "id": "5ca0399c",
   "metadata": {},
   "outputs": [
    {
     "data": {
      "text/plain": [
       "id                     0\n",
       "gender                 0\n",
       "age                    0\n",
       "hypertension           0\n",
       "heart_disease          0\n",
       "ever_married           0\n",
       "work_type              0\n",
       "Residence_type         0\n",
       "avg_glucose_level      0\n",
       "bmi                  201\n",
       "smoking_status         0\n",
       "stroke                 0\n",
       "dtype: int64"
      ]
     },
     "execution_count": 253,
     "metadata": {},
     "output_type": "execute_result"
    }
   ],
   "source": [
    "df.isnull().sum()"
   ]
  },
  {
   "cell_type": "code",
   "execution_count": 254,
   "id": "9f758d81",
   "metadata": {},
   "outputs": [],
   "source": [
    "# We got 201 missing values in 'bmi' column and all other columns do not have missing values."
   ]
  },
  {
   "cell_type": "code",
   "execution_count": 255,
   "id": "f56c3270",
   "metadata": {},
   "outputs": [],
   "source": [
    "# So, here we can fill the missing or null values by mean or median.\n",
    "# Here, we will fill the null values by median for the column 'bmi'"
   ]
  },
  {
   "cell_type": "code",
   "execution_count": 256,
   "id": "dd4485d8",
   "metadata": {},
   "outputs": [],
   "source": [
    "# First calculate the median of column 'bmi'"
   ]
  },
  {
   "cell_type": "code",
   "execution_count": 257,
   "id": "74e3e772",
   "metadata": {},
   "outputs": [
    {
     "data": {
      "text/plain": [
       "28.1"
      ]
     },
     "execution_count": 257,
     "metadata": {},
     "output_type": "execute_result"
    }
   ],
   "source": [
    "df['bmi'].median()"
   ]
  },
  {
   "cell_type": "code",
   "execution_count": 258,
   "id": "5f8e9026",
   "metadata": {},
   "outputs": [],
   "source": [
    "# Fill the missing values with median"
   ]
  },
  {
   "cell_type": "code",
   "execution_count": 259,
   "id": "bcf305d0",
   "metadata": {},
   "outputs": [],
   "source": [
    "df['bmi']=df['bmi'].fillna(df['bmi'].median())"
   ]
  },
  {
   "cell_type": "code",
   "execution_count": 260,
   "id": "6e948aeb",
   "metadata": {},
   "outputs": [],
   "source": [
    "# Now, Check the missing values in data again "
   ]
  },
  {
   "cell_type": "code",
   "execution_count": 261,
   "id": "d749ab8d",
   "metadata": {},
   "outputs": [
    {
     "data": {
      "text/plain": [
       "id                   0\n",
       "gender               0\n",
       "age                  0\n",
       "hypertension         0\n",
       "heart_disease        0\n",
       "ever_married         0\n",
       "work_type            0\n",
       "Residence_type       0\n",
       "avg_glucose_level    0\n",
       "bmi                  0\n",
       "smoking_status       0\n",
       "stroke               0\n",
       "dtype: int64"
      ]
     },
     "execution_count": 261,
     "metadata": {},
     "output_type": "execute_result"
    }
   ],
   "source": [
    "df.isnull().sum()"
   ]
  },
  {
   "cell_type": "code",
   "execution_count": 262,
   "id": "3aba9388",
   "metadata": {},
   "outputs": [],
   "source": [
    "# We can observe that, missing values in 'bmi' are replaced and it is showing no missing values anymore"
   ]
  },
  {
   "cell_type": "code",
   "execution_count": 263,
   "id": "5f25afed",
   "metadata": {},
   "outputs": [],
   "source": [
    "# Now, Get the summary of numeric variables"
   ]
  },
  {
   "cell_type": "code",
   "execution_count": 264,
   "id": "1eacf8c7",
   "metadata": {},
   "outputs": [
    {
     "data": {
      "text/html": [
       "<div>\n",
       "<style scoped>\n",
       "    .dataframe tbody tr th:only-of-type {\n",
       "        vertical-align: middle;\n",
       "    }\n",
       "\n",
       "    .dataframe tbody tr th {\n",
       "        vertical-align: top;\n",
       "    }\n",
       "\n",
       "    .dataframe thead th {\n",
       "        text-align: right;\n",
       "    }\n",
       "</style>\n",
       "<table border=\"1\" class=\"dataframe\">\n",
       "  <thead>\n",
       "    <tr style=\"text-align: right;\">\n",
       "      <th></th>\n",
       "      <th>id</th>\n",
       "      <th>age</th>\n",
       "      <th>avg_glucose_level</th>\n",
       "      <th>bmi</th>\n",
       "    </tr>\n",
       "  </thead>\n",
       "  <tbody>\n",
       "    <tr>\n",
       "      <th>count</th>\n",
       "      <td>5110.000000</td>\n",
       "      <td>5110.000000</td>\n",
       "      <td>5110.000000</td>\n",
       "      <td>5110.000000</td>\n",
       "    </tr>\n",
       "    <tr>\n",
       "      <th>mean</th>\n",
       "      <td>36517.829354</td>\n",
       "      <td>43.226614</td>\n",
       "      <td>106.147677</td>\n",
       "      <td>28.862035</td>\n",
       "    </tr>\n",
       "    <tr>\n",
       "      <th>std</th>\n",
       "      <td>21161.721625</td>\n",
       "      <td>22.612647</td>\n",
       "      <td>45.283560</td>\n",
       "      <td>7.699562</td>\n",
       "    </tr>\n",
       "    <tr>\n",
       "      <th>min</th>\n",
       "      <td>67.000000</td>\n",
       "      <td>0.080000</td>\n",
       "      <td>55.120000</td>\n",
       "      <td>10.300000</td>\n",
       "    </tr>\n",
       "    <tr>\n",
       "      <th>25%</th>\n",
       "      <td>17741.250000</td>\n",
       "      <td>25.000000</td>\n",
       "      <td>77.245000</td>\n",
       "      <td>23.800000</td>\n",
       "    </tr>\n",
       "    <tr>\n",
       "      <th>50%</th>\n",
       "      <td>36932.000000</td>\n",
       "      <td>45.000000</td>\n",
       "      <td>91.885000</td>\n",
       "      <td>28.100000</td>\n",
       "    </tr>\n",
       "    <tr>\n",
       "      <th>75%</th>\n",
       "      <td>54682.000000</td>\n",
       "      <td>61.000000</td>\n",
       "      <td>114.090000</td>\n",
       "      <td>32.800000</td>\n",
       "    </tr>\n",
       "    <tr>\n",
       "      <th>max</th>\n",
       "      <td>72940.000000</td>\n",
       "      <td>82.000000</td>\n",
       "      <td>271.740000</td>\n",
       "      <td>97.600000</td>\n",
       "    </tr>\n",
       "  </tbody>\n",
       "</table>\n",
       "</div>"
      ],
      "text/plain": [
       "                 id          age  avg_glucose_level          bmi\n",
       "count   5110.000000  5110.000000        5110.000000  5110.000000\n",
       "mean   36517.829354    43.226614         106.147677    28.862035\n",
       "std    21161.721625    22.612647          45.283560     7.699562\n",
       "min       67.000000     0.080000          55.120000    10.300000\n",
       "25%    17741.250000    25.000000          77.245000    23.800000\n",
       "50%    36932.000000    45.000000          91.885000    28.100000\n",
       "75%    54682.000000    61.000000         114.090000    32.800000\n",
       "max    72940.000000    82.000000         271.740000    97.600000"
      ]
     },
     "execution_count": 264,
     "metadata": {},
     "output_type": "execute_result"
    }
   ],
   "source": [
    "df.describe()"
   ]
  },
  {
   "cell_type": "code",
   "execution_count": 265,
   "id": "cda337fa",
   "metadata": {},
   "outputs": [],
   "source": [
    "# Now, Get the summary of categorical variables"
   ]
  },
  {
   "cell_type": "code",
   "execution_count": 266,
   "id": "053a7c06",
   "metadata": {},
   "outputs": [
    {
     "data": {
      "text/html": [
       "<div>\n",
       "<style scoped>\n",
       "    .dataframe tbody tr th:only-of-type {\n",
       "        vertical-align: middle;\n",
       "    }\n",
       "\n",
       "    .dataframe tbody tr th {\n",
       "        vertical-align: top;\n",
       "    }\n",
       "\n",
       "    .dataframe thead th {\n",
       "        text-align: right;\n",
       "    }\n",
       "</style>\n",
       "<table border=\"1\" class=\"dataframe\">\n",
       "  <thead>\n",
       "    <tr style=\"text-align: right;\">\n",
       "      <th></th>\n",
       "      <th>gender</th>\n",
       "      <th>hypertension</th>\n",
       "      <th>heart_disease</th>\n",
       "      <th>ever_married</th>\n",
       "      <th>work_type</th>\n",
       "      <th>Residence_type</th>\n",
       "      <th>smoking_status</th>\n",
       "      <th>stroke</th>\n",
       "    </tr>\n",
       "  </thead>\n",
       "  <tbody>\n",
       "    <tr>\n",
       "      <th>count</th>\n",
       "      <td>5110</td>\n",
       "      <td>5110</td>\n",
       "      <td>5110</td>\n",
       "      <td>5110</td>\n",
       "      <td>5110</td>\n",
       "      <td>5110</td>\n",
       "      <td>5110</td>\n",
       "      <td>5110</td>\n",
       "    </tr>\n",
       "    <tr>\n",
       "      <th>unique</th>\n",
       "      <td>3</td>\n",
       "      <td>2</td>\n",
       "      <td>2</td>\n",
       "      <td>2</td>\n",
       "      <td>5</td>\n",
       "      <td>2</td>\n",
       "      <td>4</td>\n",
       "      <td>2</td>\n",
       "    </tr>\n",
       "    <tr>\n",
       "      <th>top</th>\n",
       "      <td>Female</td>\n",
       "      <td>0</td>\n",
       "      <td>0</td>\n",
       "      <td>Yes</td>\n",
       "      <td>Private</td>\n",
       "      <td>Urban</td>\n",
       "      <td>never smoked</td>\n",
       "      <td>0</td>\n",
       "    </tr>\n",
       "    <tr>\n",
       "      <th>freq</th>\n",
       "      <td>2994</td>\n",
       "      <td>4612</td>\n",
       "      <td>4834</td>\n",
       "      <td>3353</td>\n",
       "      <td>2925</td>\n",
       "      <td>2596</td>\n",
       "      <td>1892</td>\n",
       "      <td>4861</td>\n",
       "    </tr>\n",
       "  </tbody>\n",
       "</table>\n",
       "</div>"
      ],
      "text/plain": [
       "        gender  hypertension  heart_disease ever_married work_type  \\\n",
       "count     5110          5110           5110         5110      5110   \n",
       "unique       3             2              2            2         5   \n",
       "top     Female             0              0          Yes   Private   \n",
       "freq      2994          4612           4834         3353      2925   \n",
       "\n",
       "       Residence_type smoking_status  stroke  \n",
       "count            5110           5110    5110  \n",
       "unique              2              4       2  \n",
       "top             Urban   never smoked       0  \n",
       "freq             2596           1892    4861  "
      ]
     },
     "execution_count": 266,
     "metadata": {},
     "output_type": "execute_result"
    }
   ],
   "source": [
    "df.select_dtypes(include = object).describe()"
   ]
  },
  {
   "cell_type": "code",
   "execution_count": 267,
   "id": "5fa5d7d8",
   "metadata": {},
   "outputs": [],
   "source": [
    "# It is possible to know the number of times a category appears in the categorical column by using value_counts()"
   ]
  },
  {
   "cell_type": "code",
   "execution_count": 268,
   "id": "a3398446",
   "metadata": {},
   "outputs": [],
   "source": [
    "# We use value_counts() to get frequencies of each category\n",
    "# Here, we are considering categorical column \"gender\" to understand frequencies of each category in that column"
   ]
  },
  {
   "cell_type": "code",
   "execution_count": 269,
   "id": "ef128615",
   "metadata": {},
   "outputs": [
    {
     "data": {
      "text/plain": [
       "Female    2994\n",
       "Male      2115\n",
       "Other        1\n",
       "Name: gender, dtype: int64"
      ]
     },
     "execution_count": 269,
     "metadata": {},
     "output_type": "execute_result"
    },
    {
     "data": {
      "image/png": "[encoded data removed]",
      "text/plain": [
       "<Figure size 640x480 with 1 Axes>"
      ]
     },
     "metadata": {},
     "output_type": "display_data"
    }
   ],
   "source": [
    "sns.countplot(df['gender'])\n",
    "df['gender'].value_counts()"
   ]
  },
  {
   "cell_type": "code",
   "execution_count": 270,
   "id": "2af97c72",
   "metadata": {},
   "outputs": [],
   "source": [
    "# Here, we are considering categorical column \"hypertension\" to understand frequencies of each category in that column\n",
    "# Here, 0 represents a person is not suffering from hypertension\n",
    "# And, 1 represents a person is suffering from hypertension"
   ]
  },
  {
   "cell_type": "code",
   "execution_count": 271,
   "id": "ec616873",
   "metadata": {},
   "outputs": [
    {
     "data": {
      "text/plain": [
       "0    4612\n",
       "1     498\n",
       "Name: hypertension, dtype: int64"
      ]
     },
     "execution_count": 271,
     "metadata": {},
     "output_type": "execute_result"
    },
    {
     "data": {
      "image/png": "[encoded data removed]",
      "text/plain": [
       "<Figure size 640x480 with 1 Axes>"
      ]
     },
     "metadata": {},
     "output_type": "display_data"
    }
   ],
   "source": [
    "sns.countplot(df['hypertension'])\n",
    "df['hypertension'].value_counts()"
   ]
  },
  {
   "cell_type": "code",
   "execution_count": 272,
   "id": "334970c7",
   "metadata": {},
   "outputs": [],
   "source": [
    "# Here, we are considering categorical column \"heart_disease\" to understand frequencies of each category in that column\n",
    "# Here, 0 represents that the person does not have any heart disease\n",
    "# And, 1 represents that the person has heart disease"
   ]
  },
  {
   "cell_type": "code",
   "execution_count": 273,
   "id": "54671b73",
   "metadata": {},
   "outputs": [
    {
     "data": {
      "text/plain": [
       "0    4834\n",
       "1     276\n",
       "Name: heart_disease, dtype: int64"
      ]
     },
     "execution_count": 273,
     "metadata": {},
     "output_type": "execute_result"
    },
    {
     "data": {
      "image/png": "[encoded data removed]",
      "text/plain": [
       "<Figure size 640x480 with 1 Axes>"
      ]
     },
     "metadata": {},
     "output_type": "display_data"
    }
   ],
   "source": [
    "sns.countplot(df['heart_disease'])\n",
    "df['heart_disease'].value_counts()"
   ]
  },
  {
   "cell_type": "code",
   "execution_count": 274,
   "id": "93f354d6",
   "metadata": {},
   "outputs": [],
   "source": [
    "# Here, we are considering categorical column \"ever_married\" to understand frequencies of each category in that column"
   ]
  },
  {
   "cell_type": "code",
   "execution_count": 275,
   "id": "541c5e11",
   "metadata": {},
   "outputs": [
    {
     "data": {
      "text/plain": [
       "Yes    3353\n",
       "No     1757\n",
       "Name: ever_married, dtype: int64"
      ]
     },
     "execution_count": 275,
     "metadata": {},
     "output_type": "execute_result"
    },
    {
     "data": {
      "image/png": "[encoded data removed]",
      "text/plain": [
       "<Figure size 640x480 with 1 Axes>"
      ]
     },
     "metadata": {},
     "output_type": "display_data"
    }
   ],
   "source": [
    "sns.countplot(df['ever_married'])\n",
    "df['ever_married'].value_counts()"
   ]
  },
  {
   "cell_type": "code",
   "execution_count": 276,
   "id": "bc4d504d",
   "metadata": {},
   "outputs": [],
   "source": [
    "# Here, we are considering categorical column \"work_type\" to understand frequencies of each category in that column"
   ]
  },
  {
   "cell_type": "code",
   "execution_count": 277,
   "id": "dd2cd39f",
   "metadata": {},
   "outputs": [
    {
     "data": {
      "text/plain": [
       "Private          2925\n",
       "Self-employed     819\n",
       "children          687\n",
       "Govt_job          657\n",
       "Never_worked       22\n",
       "Name: work_type, dtype: int64"
      ]
     },
     "execution_count": 277,
     "metadata": {},
     "output_type": "execute_result"
    },
    {
     "data": {
      "image/png": "[encoded data removed]",
      "text/plain": [
       "<Figure size 640x480 with 1 Axes>"
      ]
     },
     "metadata": {},
     "output_type": "display_data"
    }
   ],
   "source": [
    "sns.countplot(df['work_type'])\n",
    "df['work_type'].value_counts()"
   ]
  },
  {
   "cell_type": "code",
   "execution_count": 278,
   "id": "c5e461d3",
   "metadata": {},
   "outputs": [],
   "source": [
    "# Here, we are considering categorical column \"Residence_type\" to understand frequencies of each category in that column"
   ]
  },
  {
   "cell_type": "code",
   "execution_count": 279,
   "id": "13ee8fd8",
   "metadata": {},
   "outputs": [
    {
     "data": {
      "text/plain": [
       "Urban    2596\n",
       "Rural    2514\n",
       "Name: Residence_type, dtype: int64"
      ]
     },
     "execution_count": 279,
     "metadata": {},
     "output_type": "execute_result"
    },
    {
     "data": {
      "image/png": "[encoded data removed]",
      "text/plain": [
       "<Figure size 640x480 with 1 Axes>"
      ]
     },
     "metadata": {},
     "output_type": "display_data"
    }
   ],
   "source": [
    "sns.countplot(df['Residence_type'])\n",
    "df['Residence_type'].value_counts()"
   ]
  },
  {
   "cell_type": "code",
   "execution_count": 280,
   "id": "335a66bc",
   "metadata": {},
   "outputs": [],
   "source": [
    "# Here, we are considering categorical column \"smoking_status\" to understand frequencies of each category in that column"
   ]
  },
  {
   "cell_type": "code",
   "execution_count": 281,
   "id": "76e9c1e9",
   "metadata": {},
   "outputs": [
    {
     "data": {
      "text/plain": [
       "never smoked       1892\n",
       "Unknown            1544\n",
       "formerly smoked     885\n",
       "smokes              789\n",
       "Name: smoking_status, dtype: int64"
      ]
     },
     "execution_count": 281,
     "metadata": {},
     "output_type": "execute_result"
    },
    {
     "data": {
      "image/png": "[encoded data removed]",
      "text/plain": [
       "<Figure size 640x480 with 1 Axes>"
      ]
     },
     "metadata": {},
     "output_type": "display_data"
    }
   ],
   "source": [
    "sns.countplot(df['smoking_status'])\n",
    "df['smoking_status'].value_counts()"
   ]
  },
  {
   "cell_type": "code",
   "execution_count": 282,
   "id": "f0f01fbf",
   "metadata": {},
   "outputs": [],
   "source": [
    "# Here, we are considering categorical label column \"stroke\" to understand frequencies of each category in that column\n",
    "# Here, 0 represents that the person will not get heart stroke\n",
    "# And, 1 represents that the person will get heart stroke"
   ]
  },
  {
   "cell_type": "code",
   "execution_count": 283,
   "id": "f18c4623",
   "metadata": {},
   "outputs": [
    {
     "data": {
      "text/plain": [
       "0    4861\n",
       "1     249\n",
       "Name: stroke, dtype: int64"
      ]
     },
     "execution_count": 283,
     "metadata": {},
     "output_type": "execute_result"
    },
    {
     "data": {
      "image/png": "[encoded data removed]",
      "text/plain": [
       "<Figure size 640x480 with 1 Axes>"
      ]
     },
     "metadata": {},
     "output_type": "display_data"
    }
   ],
   "source": [
    "sns.countplot(df['stroke'])\n",
    "df['stroke'].value_counts()"
   ]
  },
  {
   "cell_type": "code",
   "execution_count": 284,
   "id": "bdab7575",
   "metadata": {},
   "outputs": [],
   "source": [
    "# Now, we need to perform encoding to convert the categorical variable into numeric variable.\n",
    "# We are doing this to have a better feature for our predictive models.\n",
    "# Here, we will use One Hot Encoding for conversion of categorical variables"
   ]
  },
  {
   "cell_type": "code",
   "execution_count": 285,
   "id": "420ed08f",
   "metadata": {},
   "outputs": [],
   "source": [
    "#One Hot Encoding (OHE)"
   ]
  },
  {
   "cell_type": "code",
   "execution_count": 286,
   "id": "e49915c7",
   "metadata": {},
   "outputs": [],
   "source": [
    "from sklearn.preprocessing import OneHotEncoder, MinMaxScaler"
   ]
  },
  {
   "cell_type": "code",
   "execution_count": 287,
   "id": "cffd8d55",
   "metadata": {},
   "outputs": [],
   "source": [
    "# transform numeric columns using minmax\n",
    "# onehot encode category columns\n",
    "# drop original columns which are now transformed"
   ]
  },
  {
   "cell_type": "code",
   "execution_count": 288,
   "id": "ba949b02",
   "metadata": {},
   "outputs": [],
   "source": [
    "dfd = df"
   ]
  },
  {
   "cell_type": "code",
   "execution_count": 289,
   "id": "99f60da3",
   "metadata": {},
   "outputs": [],
   "source": [
    "dfd_num = dfd.select_dtypes(include='number')\n",
    "dfd_cat = dfd.select_dtypes(include='object')"
   ]
  },
  {
   "cell_type": "code",
   "execution_count": 290,
   "id": "1b142d6d",
   "metadata": {},
   "outputs": [
    {
     "data": {
      "text/plain": [
       "array([[0.12321436, 0.81689453, 0.80126489, 0.30126002],\n",
       "       [0.70820468, 0.74365234, 0.67902317, 0.20389462],\n",
       "       [0.42601512, 0.97558594, 0.23451205, 0.25429553],\n",
       "       ...,\n",
       "       [0.26972953, 0.42626953, 0.12865848, 0.2325315 ],\n",
       "       [0.51427826, 0.62158203, 0.51320284, 0.17525773],\n",
       "       [0.61218833, 0.53613281, 0.13922999, 0.18213058]])"
      ]
     },
     "execution_count": 290,
     "metadata": {},
     "output_type": "execute_result"
    }
   ],
   "source": [
    "mmscaler = MinMaxScaler()\n",
    "mmscaler.fit_transform(dfd_num)"
   ]
  },
  {
   "cell_type": "code",
   "execution_count": 291,
   "id": "9a274c12",
   "metadata": {},
   "outputs": [],
   "source": [
    "dfd_num_rescaled = pd.DataFrame(mmscaler.fit_transform(dfd_num), columns=dfd_num.columns)"
   ]
  },
  {
   "cell_type": "code",
   "execution_count": 292,
   "id": "1b6976ce",
   "metadata": {},
   "outputs": [
    {
     "data": {
      "text/plain": [
       "array([[1., 0., 0., ..., 0., 0., 1.],\n",
       "       [0., 0., 0., ..., 1., 0., 1.],\n",
       "       [1., 0., 0., ..., 1., 0., 1.],\n",
       "       ...,\n",
       "       [0., 0., 0., ..., 1., 0., 0.],\n",
       "       [1., 0., 0., ..., 0., 0., 0.],\n",
       "       [0., 0., 0., ..., 0., 0., 0.]])"
      ]
     },
     "execution_count": 292,
     "metadata": {},
     "output_type": "execute_result"
    }
   ],
   "source": [
    "ohe = OneHotEncoder(drop='first')\n",
    "ohe.fit_transform(dfd_cat).toarray()"
   ]
  },
  {
   "cell_type": "code",
   "execution_count": 293,
   "id": "b04650b9",
   "metadata": {},
   "outputs": [
    {
     "data": {
      "text/html": [
       "<div>\n",
       "<style scoped>\n",
       "    .dataframe tbody tr th:only-of-type {\n",
       "        vertical-align: middle;\n",
       "    }\n",
       "\n",
       "    .dataframe tbody tr th {\n",
       "        vertical-align: top;\n",
       "    }\n",
       "\n",
       "    .dataframe thead th {\n",
       "        text-align: right;\n",
       "    }\n",
       "</style>\n",
       "<table border=\"1\" class=\"dataframe\">\n",
       "  <thead>\n",
       "    <tr style=\"text-align: right;\">\n",
       "      <th></th>\n",
       "      <th>gender_Male</th>\n",
       "      <th>gender_Other</th>\n",
       "      <th>hypertension_1</th>\n",
       "      <th>heart_disease_1</th>\n",
       "      <th>ever_married_Yes</th>\n",
       "      <th>work_type_Never_worked</th>\n",
       "      <th>work_type_Private</th>\n",
       "      <th>work_type_Self-employed</th>\n",
       "      <th>work_type_children</th>\n",
       "      <th>Residence_type_Urban</th>\n",
       "      <th>smoking_status_formerly smoked</th>\n",
       "      <th>smoking_status_never smoked</th>\n",
       "      <th>smoking_status_smokes</th>\n",
       "      <th>stroke_1</th>\n",
       "    </tr>\n",
       "  </thead>\n",
       "  <tbody>\n",
       "    <tr>\n",
       "      <th>0</th>\n",
       "      <td>1.0</td>\n",
       "      <td>0.0</td>\n",
       "      <td>0.0</td>\n",
       "      <td>1.0</td>\n",
       "      <td>1.0</td>\n",
       "      <td>0.0</td>\n",
       "      <td>1.0</td>\n",
       "      <td>0.0</td>\n",
       "      <td>0.0</td>\n",
       "      <td>1.0</td>\n",
       "      <td>1.0</td>\n",
       "      <td>0.0</td>\n",
       "      <td>0.0</td>\n",
       "      <td>1.0</td>\n",
       "    </tr>\n",
       "    <tr>\n",
       "      <th>1</th>\n",
       "      <td>0.0</td>\n",
       "      <td>0.0</td>\n",
       "      <td>0.0</td>\n",
       "      <td>0.0</td>\n",
       "      <td>1.0</td>\n",
       "      <td>0.0</td>\n",
       "      <td>0.0</td>\n",
       "      <td>1.0</td>\n",
       "      <td>0.0</td>\n",
       "      <td>0.0</td>\n",
       "      <td>0.0</td>\n",
       "      <td>1.0</td>\n",
       "      <td>0.0</td>\n",
       "      <td>1.0</td>\n",
       "    </tr>\n",
       "    <tr>\n",
       "      <th>2</th>\n",
       "      <td>1.0</td>\n",
       "      <td>0.0</td>\n",
       "      <td>0.0</td>\n",
       "      <td>1.0</td>\n",
       "      <td>1.0</td>\n",
       "      <td>0.0</td>\n",
       "      <td>1.0</td>\n",
       "      <td>0.0</td>\n",
       "      <td>0.0</td>\n",
       "      <td>0.0</td>\n",
       "      <td>0.0</td>\n",
       "      <td>1.0</td>\n",
       "      <td>0.0</td>\n",
       "      <td>1.0</td>\n",
       "    </tr>\n",
       "    <tr>\n",
       "      <th>3</th>\n",
       "      <td>0.0</td>\n",
       "      <td>0.0</td>\n",
       "      <td>0.0</td>\n",
       "      <td>0.0</td>\n",
       "      <td>1.0</td>\n",
       "      <td>0.0</td>\n",
       "      <td>1.0</td>\n",
       "      <td>0.0</td>\n",
       "      <td>0.0</td>\n",
       "      <td>1.0</td>\n",
       "      <td>0.0</td>\n",
       "      <td>0.0</td>\n",
       "      <td>1.0</td>\n",
       "      <td>1.0</td>\n",
       "    </tr>\n",
       "    <tr>\n",
       "      <th>4</th>\n",
       "      <td>0.0</td>\n",
       "      <td>0.0</td>\n",
       "      <td>1.0</td>\n",
       "      <td>0.0</td>\n",
       "      <td>1.0</td>\n",
       "      <td>0.0</td>\n",
       "      <td>0.0</td>\n",
       "      <td>1.0</td>\n",
       "      <td>0.0</td>\n",
       "      <td>0.0</td>\n",
       "      <td>0.0</td>\n",
       "      <td>1.0</td>\n",
       "      <td>0.0</td>\n",
       "      <td>1.0</td>\n",
       "    </tr>\n",
       "    <tr>\n",
       "      <th>...</th>\n",
       "      <td>...</td>\n",
       "      <td>...</td>\n",
       "      <td>...</td>\n",
       "      <td>...</td>\n",
       "      <td>...</td>\n",
       "      <td>...</td>\n",
       "      <td>...</td>\n",
       "      <td>...</td>\n",
       "      <td>...</td>\n",
       "      <td>...</td>\n",
       "      <td>...</td>\n",
       "      <td>...</td>\n",
       "      <td>...</td>\n",
       "      <td>...</td>\n",
       "    </tr>\n",
       "    <tr>\n",
       "      <th>5105</th>\n",
       "      <td>0.0</td>\n",
       "      <td>0.0</td>\n",
       "      <td>1.0</td>\n",
       "      <td>0.0</td>\n",
       "      <td>1.0</td>\n",
       "      <td>0.0</td>\n",
       "      <td>1.0</td>\n",
       "      <td>0.0</td>\n",
       "      <td>0.0</td>\n",
       "      <td>1.0</td>\n",
       "      <td>0.0</td>\n",
       "      <td>1.0</td>\n",
       "      <td>0.0</td>\n",
       "      <td>0.0</td>\n",
       "    </tr>\n",
       "    <tr>\n",
       "      <th>5106</th>\n",
       "      <td>0.0</td>\n",
       "      <td>0.0</td>\n",
       "      <td>0.0</td>\n",
       "      <td>0.0</td>\n",
       "      <td>1.0</td>\n",
       "      <td>0.0</td>\n",
       "      <td>0.0</td>\n",
       "      <td>1.0</td>\n",
       "      <td>0.0</td>\n",
       "      <td>1.0</td>\n",
       "      <td>0.0</td>\n",
       "      <td>1.0</td>\n",
       "      <td>0.0</td>\n",
       "      <td>0.0</td>\n",
       "    </tr>\n",
       "    <tr>\n",
       "      <th>5107</th>\n",
       "      <td>0.0</td>\n",
       "      <td>0.0</td>\n",
       "      <td>0.0</td>\n",
       "      <td>0.0</td>\n",
       "      <td>1.0</td>\n",
       "      <td>0.0</td>\n",
       "      <td>0.0</td>\n",
       "      <td>1.0</td>\n",
       "      <td>0.0</td>\n",
       "      <td>0.0</td>\n",
       "      <td>0.0</td>\n",
       "      <td>1.0</td>\n",
       "      <td>0.0</td>\n",
       "      <td>0.0</td>\n",
       "    </tr>\n",
       "    <tr>\n",
       "      <th>5108</th>\n",
       "      <td>1.0</td>\n",
       "      <td>0.0</td>\n",
       "      <td>0.0</td>\n",
       "      <td>0.0</td>\n",
       "      <td>1.0</td>\n",
       "      <td>0.0</td>\n",
       "      <td>1.0</td>\n",
       "      <td>0.0</td>\n",
       "      <td>0.0</td>\n",
       "      <td>0.0</td>\n",
       "      <td>1.0</td>\n",
       "      <td>0.0</td>\n",
       "      <td>0.0</td>\n",
       "      <td>0.0</td>\n",
       "    </tr>\n",
       "    <tr>\n",
       "      <th>5109</th>\n",
       "      <td>0.0</td>\n",
       "      <td>0.0</td>\n",
       "      <td>0.0</td>\n",
       "      <td>0.0</td>\n",
       "      <td>1.0</td>\n",
       "      <td>0.0</td>\n",
       "      <td>0.0</td>\n",
       "      <td>0.0</td>\n",
       "      <td>0.0</td>\n",
       "      <td>1.0</td>\n",
       "      <td>0.0</td>\n",
       "      <td>0.0</td>\n",
       "      <td>0.0</td>\n",
       "      <td>0.0</td>\n",
       "    </tr>\n",
       "  </tbody>\n",
       "</table>\n",
       "<p>5110 rows × 14 columns</p>\n",
       "</div>"
      ],
      "text/plain": [
       "      gender_Male  gender_Other  hypertension_1  heart_disease_1  \\\n",
       "0             1.0           0.0             0.0              1.0   \n",
       "1             0.0           0.0             0.0              0.0   \n",
       "2             1.0           0.0             0.0              1.0   \n",
       "3             0.0           0.0             0.0              0.0   \n",
       "4             0.0           0.0             1.0              0.0   \n",
       "...           ...           ...             ...              ...   \n",
       "5105          0.0           0.0             1.0              0.0   \n",
       "5106          0.0           0.0             0.0              0.0   \n",
       "5107          0.0           0.0             0.0              0.0   \n",
       "5108          1.0           0.0             0.0              0.0   \n",
       "5109          0.0           0.0             0.0              0.0   \n",
       "\n",
       "      ever_married_Yes  work_type_Never_worked  work_type_Private  \\\n",
       "0                  1.0                     0.0                1.0   \n",
       "1                  1.0                     0.0                0.0   \n",
       "2                  1.0                     0.0                1.0   \n",
       "3                  1.0                     0.0                1.0   \n",
       "4                  1.0                     0.0                0.0   \n",
       "...                ...                     ...                ...   \n",
       "5105               1.0                     0.0                1.0   \n",
       "5106               1.0                     0.0                0.0   \n",
       "5107               1.0                     0.0                0.0   \n",
       "5108               1.0                     0.0                1.0   \n",
       "5109               1.0                     0.0                0.0   \n",
       "\n",
       "      work_type_Self-employed  work_type_children  Residence_type_Urban  \\\n",
       "0                         0.0                 0.0                   1.0   \n",
       "1                         1.0                 0.0                   0.0   \n",
       "2                         0.0                 0.0                   0.0   \n",
       "3                         0.0                 0.0                   1.0   \n",
       "4                         1.0                 0.0                   0.0   \n",
       "...                       ...                 ...                   ...   \n",
       "5105                      0.0                 0.0                   1.0   \n",
       "5106                      1.0                 0.0                   1.0   \n",
       "5107                      1.0                 0.0                   0.0   \n",
       "5108                      0.0                 0.0                   0.0   \n",
       "5109                      0.0                 0.0                   1.0   \n",
       "\n",
       "      smoking_status_formerly smoked  smoking_status_never smoked  \\\n",
       "0                                1.0                          0.0   \n",
       "1                                0.0                          1.0   \n",
       "2                                0.0                          1.0   \n",
       "3                                0.0                          0.0   \n",
       "4                                0.0                          1.0   \n",
       "...                              ...                          ...   \n",
       "5105                             0.0                          1.0   \n",
       "5106                             0.0                          1.0   \n",
       "5107                             0.0                          1.0   \n",
       "5108                             1.0                          0.0   \n",
       "5109                             0.0                          0.0   \n",
       "\n",
       "      smoking_status_smokes  stroke_1  \n",
       "0                       0.0       1.0  \n",
       "1                       0.0       1.0  \n",
       "2                       0.0       1.0  \n",
       "3                       1.0       1.0  \n",
       "4                       0.0       1.0  \n",
       "...                     ...       ...  \n",
       "5105                    0.0       0.0  \n",
       "5106                    0.0       0.0  \n",
       "5107                    0.0       0.0  \n",
       "5108                    0.0       0.0  \n",
       "5109                    0.0       0.0  \n",
       "\n",
       "[5110 rows x 14 columns]"
      ]
     },
     "execution_count": 293,
     "metadata": {},
     "output_type": "execute_result"
    }
   ],
   "source": [
    "pd.DataFrame(ohe.fit_transform(dfd_cat).toarray(), columns=ohe.get_feature_names_out())"
   ]
  },
  {
   "cell_type": "code",
   "execution_count": 294,
   "id": "9f8df223",
   "metadata": {},
   "outputs": [],
   "source": [
    "dfd_cat_ohe = pd.DataFrame(ohe.fit_transform(dfd_cat).toarray(), columns=ohe.get_feature_names_out())"
   ]
  },
  {
   "cell_type": "code",
   "execution_count": 295,
   "id": "e72996b3",
   "metadata": {},
   "outputs": [
    {
     "data": {
      "text/plain": [
       "((5110, 4), (5110, 14))"
      ]
     },
     "execution_count": 295,
     "metadata": {},
     "output_type": "execute_result"
    }
   ],
   "source": [
    "# check shape of the two dataframes\n",
    "dfd_num_rescaled.shape, dfd_cat_ohe.shape"
   ]
  },
  {
   "cell_type": "code",
   "execution_count": 296,
   "id": "cc80f9e8",
   "metadata": {},
   "outputs": [],
   "source": [
    "X = pd.concat([dfd_num_rescaled, dfd_cat_ohe], axis = 1)"
   ]
  },
  {
   "cell_type": "code",
   "execution_count": 297,
   "id": "fd2a0465",
   "metadata": {},
   "outputs": [
    {
     "data": {
      "text/html": [
       "<div>\n",
       "<style scoped>\n",
       "    .dataframe tbody tr th:only-of-type {\n",
       "        vertical-align: middle;\n",
       "    }\n",
       "\n",
       "    .dataframe tbody tr th {\n",
       "        vertical-align: top;\n",
       "    }\n",
       "\n",
       "    .dataframe thead th {\n",
       "        text-align: right;\n",
       "    }\n",
       "</style>\n",
       "<table border=\"1\" class=\"dataframe\">\n",
       "  <thead>\n",
       "    <tr style=\"text-align: right;\">\n",
       "      <th></th>\n",
       "      <th>id</th>\n",
       "      <th>age</th>\n",
       "      <th>avg_glucose_level</th>\n",
       "      <th>bmi</th>\n",
       "      <th>gender_Male</th>\n",
       "      <th>gender_Other</th>\n",
       "      <th>hypertension_1</th>\n",
       "      <th>heart_disease_1</th>\n",
       "      <th>ever_married_Yes</th>\n",
       "      <th>work_type_Never_worked</th>\n",
       "      <th>work_type_Private</th>\n",
       "      <th>work_type_Self-employed</th>\n",
       "      <th>work_type_children</th>\n",
       "      <th>Residence_type_Urban</th>\n",
       "      <th>smoking_status_formerly smoked</th>\n",
       "      <th>smoking_status_never smoked</th>\n",
       "      <th>smoking_status_smokes</th>\n",
       "      <th>stroke_1</th>\n",
       "    </tr>\n",
       "  </thead>\n",
       "  <tbody>\n",
       "    <tr>\n",
       "      <th>0</th>\n",
       "      <td>0.123214</td>\n",
       "      <td>0.816895</td>\n",
       "      <td>0.801265</td>\n",
       "      <td>0.301260</td>\n",
       "      <td>1.0</td>\n",
       "      <td>0.0</td>\n",
       "      <td>0.0</td>\n",
       "      <td>1.0</td>\n",
       "      <td>1.0</td>\n",
       "      <td>0.0</td>\n",
       "      <td>1.0</td>\n",
       "      <td>0.0</td>\n",
       "      <td>0.0</td>\n",
       "      <td>1.0</td>\n",
       "      <td>1.0</td>\n",
       "      <td>0.0</td>\n",
       "      <td>0.0</td>\n",
       "      <td>1.0</td>\n",
       "    </tr>\n",
       "    <tr>\n",
       "      <th>1</th>\n",
       "      <td>0.708205</td>\n",
       "      <td>0.743652</td>\n",
       "      <td>0.679023</td>\n",
       "      <td>0.203895</td>\n",
       "      <td>0.0</td>\n",
       "      <td>0.0</td>\n",
       "      <td>0.0</td>\n",
       "      <td>0.0</td>\n",
       "      <td>1.0</td>\n",
       "      <td>0.0</td>\n",
       "      <td>0.0</td>\n",
       "      <td>1.0</td>\n",
       "      <td>0.0</td>\n",
       "      <td>0.0</td>\n",
       "      <td>0.0</td>\n",
       "      <td>1.0</td>\n",
       "      <td>0.0</td>\n",
       "      <td>1.0</td>\n",
       "    </tr>\n",
       "    <tr>\n",
       "      <th>2</th>\n",
       "      <td>0.426015</td>\n",
       "      <td>0.975586</td>\n",
       "      <td>0.234512</td>\n",
       "      <td>0.254296</td>\n",
       "      <td>1.0</td>\n",
       "      <td>0.0</td>\n",
       "      <td>0.0</td>\n",
       "      <td>1.0</td>\n",
       "      <td>1.0</td>\n",
       "      <td>0.0</td>\n",
       "      <td>1.0</td>\n",
       "      <td>0.0</td>\n",
       "      <td>0.0</td>\n",
       "      <td>0.0</td>\n",
       "      <td>0.0</td>\n",
       "      <td>1.0</td>\n",
       "      <td>0.0</td>\n",
       "      <td>1.0</td>\n",
       "    </tr>\n",
       "    <tr>\n",
       "      <th>3</th>\n",
       "      <td>0.824928</td>\n",
       "      <td>0.597168</td>\n",
       "      <td>0.536008</td>\n",
       "      <td>0.276060</td>\n",
       "      <td>0.0</td>\n",
       "      <td>0.0</td>\n",
       "      <td>0.0</td>\n",
       "      <td>0.0</td>\n",
       "      <td>1.0</td>\n",
       "      <td>0.0</td>\n",
       "      <td>1.0</td>\n",
       "      <td>0.0</td>\n",
       "      <td>0.0</td>\n",
       "      <td>1.0</td>\n",
       "      <td>0.0</td>\n",
       "      <td>0.0</td>\n",
       "      <td>1.0</td>\n",
       "      <td>1.0</td>\n",
       "    </tr>\n",
       "    <tr>\n",
       "      <th>4</th>\n",
       "      <td>0.021929</td>\n",
       "      <td>0.963379</td>\n",
       "      <td>0.549349</td>\n",
       "      <td>0.156930</td>\n",
       "      <td>0.0</td>\n",
       "      <td>0.0</td>\n",
       "      <td>1.0</td>\n",
       "      <td>0.0</td>\n",
       "      <td>1.0</td>\n",
       "      <td>0.0</td>\n",
       "      <td>0.0</td>\n",
       "      <td>1.0</td>\n",
       "      <td>0.0</td>\n",
       "      <td>0.0</td>\n",
       "      <td>0.0</td>\n",
       "      <td>1.0</td>\n",
       "      <td>0.0</td>\n",
       "      <td>1.0</td>\n",
       "    </tr>\n",
       "  </tbody>\n",
       "</table>\n",
       "</div>"
      ],
      "text/plain": [
       "         id       age  avg_glucose_level       bmi  gender_Male  gender_Other  \\\n",
       "0  0.123214  0.816895           0.801265  0.301260          1.0           0.0   \n",
       "1  0.708205  0.743652           0.679023  0.203895          0.0           0.0   \n",
       "2  0.426015  0.975586           0.234512  0.254296          1.0           0.0   \n",
       "3  0.824928  0.597168           0.536008  0.276060          0.0           0.0   \n",
       "4  0.021929  0.963379           0.549349  0.156930          0.0           0.0   \n",
       "\n",
       "   hypertension_1  heart_disease_1  ever_married_Yes  work_type_Never_worked  \\\n",
       "0             0.0              1.0               1.0                     0.0   \n",
       "1             0.0              0.0               1.0                     0.0   \n",
       "2             0.0              1.0               1.0                     0.0   \n",
       "3             0.0              0.0               1.0                     0.0   \n",
       "4             1.0              0.0               1.0                     0.0   \n",
       "\n",
       "   work_type_Private  work_type_Self-employed  work_type_children  \\\n",
       "0                1.0                      0.0                 0.0   \n",
       "1                0.0                      1.0                 0.0   \n",
       "2                1.0                      0.0                 0.0   \n",
       "3                1.0                      0.0                 0.0   \n",
       "4                0.0                      1.0                 0.0   \n",
       "\n",
       "   Residence_type_Urban  smoking_status_formerly smoked  \\\n",
       "0                   1.0                             1.0   \n",
       "1                   0.0                             0.0   \n",
       "2                   0.0                             0.0   \n",
       "3                   1.0                             0.0   \n",
       "4                   0.0                             0.0   \n",
       "\n",
       "   smoking_status_never smoked  smoking_status_smokes  stroke_1  \n",
       "0                          0.0                    0.0       1.0  \n",
       "1                          1.0                    0.0       1.0  \n",
       "2                          1.0                    0.0       1.0  \n",
       "3                          0.0                    1.0       1.0  \n",
       "4                          1.0                    0.0       1.0  "
      ]
     },
     "execution_count": 297,
     "metadata": {},
     "output_type": "execute_result"
    }
   ],
   "source": [
    "# this has all the feature columns\n",
    "X.head()"
   ]
  },
  {
   "cell_type": "code",
   "execution_count": 298,
   "id": "599d1478",
   "metadata": {},
   "outputs": [],
   "source": [
    "# this has the label column, drop from features dataaset\n",
    "y = X.stroke_1\n",
    "X.drop('stroke_1',axis=1,inplace=True)"
   ]
  },
  {
   "cell_type": "code",
   "execution_count": 299,
   "id": "cfab5dee",
   "metadata": {},
   "outputs": [],
   "source": [
    "# separate dataset into features and label\n",
    "# split into train and test"
   ]
  },
  {
   "cell_type": "code",
   "execution_count": 300,
   "id": "ea3a6295",
   "metadata": {},
   "outputs": [],
   "source": [
    "from sklearn.model_selection import train_test_split"
   ]
  },
  {
   "cell_type": "code",
   "execution_count": 301,
   "id": "61a4e1db",
   "metadata": {},
   "outputs": [
    {
     "name": "stdout",
     "output_type": "stream",
     "text": [
      "X_train (3577, 17)\n",
      "y_train (3577,)\n",
      "X_test (1533, 17)\n",
      "y_test (1533,)\n"
     ]
    }
   ],
   "source": [
    "# split data into train subset and test subset\n",
    "# set 'random_state' to generate the same dataset each time you run the code \n",
    "# 'test_size' returns the proportion of data to be included in the testing set\n",
    "X_train, X_test, y_train, y_test = train_test_split(dfd_xformd, labl, random_state = 1, test_size = 0.3)\n",
    "\n",
    "# check the dimensions of the train & test subset using 'shape'\n",
    "# print dimension of train set\n",
    "print('X_train', X_train.shape)\n",
    "print('y_train', y_train.shape)\n",
    "\n",
    "# print dimension of test set\n",
    "print('X_test', X_test.shape)\n",
    "print('y_test', y_test.shape)"
   ]
  },
  {
   "cell_type": "markdown",
   "id": "a4b5b53b",
   "metadata": {},
   "source": [
    "### KNN Classification Model"
   ]
  },
  {
   "cell_type": "code",
   "execution_count": 302,
   "id": "cabb1a06",
   "metadata": {},
   "outputs": [],
   "source": [
    "from sklearn.neighbors import KNeighborsClassifier\n",
    "from sklearn.metrics import confusion_matrix\n",
    "from sklearn.metrics import roc_curve\n",
    "from sklearn.metrics import accuracy_score"
   ]
  },
  {
   "cell_type": "code",
   "execution_count": 303,
   "id": "71969124",
   "metadata": {},
   "outputs": [
    {
     "data": {
      "text/plain": [
       "KNeighborsClassifier()"
      ]
     },
     "execution_count": 303,
     "metadata": {},
     "output_type": "execute_result"
    }
   ],
   "source": [
    "knn_clf = KNeighborsClassifier(n_neighbors= 5)\n",
    "knn_clf.fit(X_train, y_train)"
   ]
  },
  {
   "cell_type": "code",
   "execution_count": 304,
   "id": "e0b293c2",
   "metadata": {},
   "outputs": [
    {
     "data": {
      "text/plain": [
       "array([0., 0., 0., ..., 0., 0., 1.])"
      ]
     },
     "execution_count": 304,
     "metadata": {},
     "output_type": "execute_result"
    }
   ],
   "source": [
    "# Calculate the accuracy score on train data\n",
    "train_preds = knn_clf.predict(X_train)\n",
    "train_preds"
   ]
  },
  {
   "cell_type": "code",
   "execution_count": 305,
   "id": "b4c68a7e",
   "metadata": {},
   "outputs": [
    {
     "name": "stdout",
     "output_type": "stream",
     "text": [
      "confusion matrix:\n",
      " [[3404    7]\n",
      " [ 148   18]]\n",
      "accuracy:\n",
      " 0.9566675985462678\n"
     ]
    }
   ],
   "source": [
    "cm_train = confusion_matrix(y_train, train_preds)\n",
    "ac_train = accuracy_score(y_train,train_preds)\n",
    "print('confusion matrix:\\n',cm_train)\n",
    "print('accuracy:\\n',ac_train)"
   ]
  },
  {
   "cell_type": "code",
   "execution_count": 306,
   "id": "4138a335",
   "metadata": {},
   "outputs": [
    {
     "data": {
      "text/plain": [
       "0.9544310875034946"
      ]
     },
     "execution_count": 306,
     "metadata": {},
     "output_type": "execute_result"
    }
   ],
   "source": [
    "(3411+3)/(3411+3+0+163)"
   ]
  },
  {
   "cell_type": "code",
   "execution_count": 307,
   "id": "17340c0b",
   "metadata": {},
   "outputs": [
    {
     "name": "stdout",
     "output_type": "stream",
     "text": [
      "Accuracy score on train data:  0.9566675985462678\n"
     ]
    }
   ],
   "source": [
    "print('Accuracy score on train data: ', ac_train)"
   ]
  },
  {
   "cell_type": "code",
   "execution_count": 308,
   "id": "4d9761ff",
   "metadata": {},
   "outputs": [],
   "source": [
    "# Calculate accuracy score on test data"
   ]
  },
  {
   "cell_type": "code",
   "execution_count": 309,
   "id": "34ee739b",
   "metadata": {},
   "outputs": [
    {
     "data": {
      "text/plain": [
       "array([0., 0., 0., ..., 0., 0., 0.])"
      ]
     },
     "execution_count": 309,
     "metadata": {},
     "output_type": "execute_result"
    }
   ],
   "source": [
    "test_preds = knn_clf.predict(X_test)\n",
    "test_preds"
   ]
  },
  {
   "cell_type": "code",
   "execution_count": 310,
   "id": "3894acdb",
   "metadata": {},
   "outputs": [
    {
     "name": "stdout",
     "output_type": "stream",
     "text": [
      "confusion matrix:\n",
      " [[1444    6]\n",
      " [  81    2]]\n",
      "accuracy:\n",
      " 0.9432485322896281\n"
     ]
    }
   ],
   "source": [
    "cm_test = confusion_matrix(y_test, test_preds)\n",
    "ac_test = accuracy_score(y_test,test_preds)\n",
    "print('confusion matrix:\\n',cm_test)\n",
    "print('accuracy:\\n',ac_test)"
   ]
  },
  {
   "cell_type": "code",
   "execution_count": 311,
   "id": "b8569711",
   "metadata": {},
   "outputs": [
    {
     "data": {
      "text/plain": [
       "0.9458577951728636"
      ]
     },
     "execution_count": 311,
     "metadata": {},
     "output_type": "execute_result"
    }
   ],
   "source": [
    "(1450)/(1450+83)"
   ]
  },
  {
   "cell_type": "code",
   "execution_count": 312,
   "id": "a0ef84c2",
   "metadata": {},
   "outputs": [
    {
     "name": "stdout",
     "output_type": "stream",
     "text": [
      "Accuracy score on test data:  0.9432485322896281\n"
     ]
    }
   ],
   "source": [
    "print('Accuracy score on test data: ', ac_test)"
   ]
  },
  {
   "cell_type": "code",
   "execution_count": 313,
   "id": "28534a99",
   "metadata": {},
   "outputs": [],
   "source": [
    "# Accuracy performance is consistent between train and test."
   ]
  },
  {
   "cell_type": "markdown",
   "id": "b8729de7",
   "metadata": {},
   "source": [
    "### Logistic Regression Model"
   ]
  },
  {
   "cell_type": "code",
   "execution_count": 314,
   "id": "414e307e",
   "metadata": {},
   "outputs": [],
   "source": [
    "lr = LogisticRegression()\n",
    "model = lr.fit(X_train,y_train)"
   ]
  },
  {
   "cell_type": "code",
   "execution_count": 315,
   "id": "fe7797fd",
   "metadata": {},
   "outputs": [],
   "source": [
    "train_preds = lr.predict(X_train)\n",
    "test_preds=lr.predict(X_test)"
   ]
  },
  {
   "cell_type": "code",
   "execution_count": 316,
   "id": "d4247d20",
   "metadata": {},
   "outputs": [
    {
     "name": "stdout",
     "output_type": "stream",
     "text": [
      "confusion matrix:\n",
      " [[3411    0]\n",
      " [ 166    0]]\n",
      "accuracy:\n",
      " 0.9535923958624546\n"
     ]
    }
   ],
   "source": [
    "cm_train = confusion_matrix(y_train, train_preds)\n",
    "ac_train = accuracy_score(y_train,train_preds)\n",
    "print('confusion matrix:\\n',cm_train)\n",
    "print('accuracy:\\n',ac_train)"
   ]
  },
  {
   "cell_type": "code",
   "execution_count": 317,
   "id": "4569a4f0",
   "metadata": {},
   "outputs": [
    {
     "data": {
      "text/plain": [
       "0.9535923958624546"
      ]
     },
     "execution_count": 317,
     "metadata": {},
     "output_type": "execute_result"
    }
   ],
   "source": [
    "(3411)/(3411+166)"
   ]
  },
  {
   "cell_type": "code",
   "execution_count": 318,
   "id": "cf07caea",
   "metadata": {},
   "outputs": [
    {
     "name": "stdout",
     "output_type": "stream",
     "text": [
      "Accuracy score on train data:  0.9535923958624546\n"
     ]
    }
   ],
   "source": [
    "print('Accuracy score on train data: ', ac_train)"
   ]
  },
  {
   "cell_type": "code",
   "execution_count": 319,
   "id": "a34f9a1b",
   "metadata": {},
   "outputs": [
    {
     "name": "stdout",
     "output_type": "stream",
     "text": [
      "confusion matrix:\n",
      " [[1450    0]\n",
      " [  83    0]]\n",
      "accuracy:\n",
      " 0.9458577951728636\n"
     ]
    }
   ],
   "source": [
    "cm_test = confusion_matrix(y_test, test_preds)\n",
    "ac_test = accuracy_score(y_test,test_preds)\n",
    "print('confusion matrix:\\n',cm_test)\n",
    "print('accuracy:\\n',ac_test)"
   ]
  },
  {
   "cell_type": "code",
   "execution_count": 320,
   "id": "bbb065a4",
   "metadata": {},
   "outputs": [
    {
     "data": {
      "text/plain": [
       "0.9458577951728636"
      ]
     },
     "execution_count": 320,
     "metadata": {},
     "output_type": "execute_result"
    }
   ],
   "source": [
    "(1450)/(1450+83)"
   ]
  },
  {
   "cell_type": "code",
   "execution_count": 321,
   "id": "41feb937",
   "metadata": {},
   "outputs": [
    {
     "name": "stdout",
     "output_type": "stream",
     "text": [
      "Accuracy score on test data:  0.9458577951728636\n"
     ]
    }
   ],
   "source": [
    "print('Accuracy score on test data: ', ac_test)"
   ]
  },
  {
   "cell_type": "code",
   "execution_count": 322,
   "id": "4fd5780b",
   "metadata": {},
   "outputs": [],
   "source": [
    "# Accuracy performance is consistent between train and test."
   ]
  },
  {
   "cell_type": "code",
   "execution_count": 323,
   "id": "95143b45",
   "metadata": {},
   "outputs": [],
   "source": [
    "# So, we got the accuracy of both the models"
   ]
  },
  {
   "cell_type": "code",
   "execution_count": 324,
   "id": "d6cf12dc",
   "metadata": {},
   "outputs": [],
   "source": [
    "#1. Accuracy of KNN Classifier model is 0.9432\n",
    "#2. Accuracy of Logistic Regression model is 0.9458"
   ]
  },
  {
   "cell_type": "code",
   "execution_count": 325,
   "id": "8b4c955d",
   "metadata": {},
   "outputs": [],
   "source": [
    "# We can say that accuracy of both ML classification models is almost same.\n",
    "# But, accuracy of Logistic \n",
    "# Hence, we will select logistic regression model for the prediction of heart strokes. "
   ]
  }
 ],
 "metadata": {
  "kernelspec": {
   "display_name": "Python 3 (ipykernel)",
   "language": "python",
   "name": "python3"
  },
  "language_info": {
   "codemirror_mode": {
    "name": "ipython",
    "version": 3
   },
   "file_extension": ".py",
   "mimetype": "text/x-python",
   "name": "python",
   "nbconvert_exporter": "python",
   "pygments_lexer": "ipython3",
   "version": "3.9.13"
  }
 },
 "nbformat": 4,
 "nbformat_minor": 5
}
